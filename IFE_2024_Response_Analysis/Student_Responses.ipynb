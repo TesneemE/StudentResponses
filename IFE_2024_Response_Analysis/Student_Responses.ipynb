{
 "cells": [
  {
   "cell_type": "code",
   "execution_count": 1,
   "id": "f6f179c2-76de-4beb-b4be-d9172fe43f94",
   "metadata": {},
   "outputs": [],
   "source": [
    "import pandas as pd"
   ]
  },
  {
   "cell_type": "code",
   "execution_count": 2,
   "id": "d4b10c6e-4d96-4f75-b525-e9ca3f5c92cb",
   "metadata": {},
   "outputs": [],
   "source": [
    "df=pd.read_csv('Prep for Prep - IFE Summer 2024-submissions (updated 2024-08-01 174018 UTC).csv')"
   ]
  },
  {
   "cell_type": "code",
   "execution_count": 3,
   "id": "28b0048b-d2e6-4006-9bb5-569b6ff3b047",
   "metadata": {},
   "outputs": [
    {
     "data": {
      "text/html": [
       "<div>\n",
       "<style scoped>\n",
       "    .dataframe tbody tr th:only-of-type {\n",
       "        vertical-align: middle;\n",
       "    }\n",
       "\n",
       "    .dataframe tbody tr th {\n",
       "        vertical-align: top;\n",
       "    }\n",
       "\n",
       "    .dataframe thead th {\n",
       "        text-align: right;\n",
       "    }\n",
       "</style>\n",
       "<table border=\"1\" class=\"dataframe\">\n",
       "  <thead>\n",
       "    <tr style=\"text-align: right;\">\n",
       "      <th></th>\n",
       "      <th>Checkpoint</th>\n",
       "      <th>Lesson</th>\n",
       "      <th>Prompt</th>\n",
       "      <th>Type</th>\n",
       "      <th>Student Name</th>\n",
       "      <th>Student Email</th>\n",
       "      <th>Available Points</th>\n",
       "      <th>Earned Points</th>\n",
       "      <th>Note</th>\n",
       "      <th>Answer 1</th>\n",
       "      <th>Answer 2</th>\n",
       "      <th>Answer 3</th>\n",
       "      <th>Answer 4</th>\n",
       "      <th>Answer 5</th>\n",
       "      <th>Answer 6</th>\n",
       "    </tr>\n",
       "  </thead>\n",
       "  <tbody>\n",
       "    <tr>\n",
       "      <th>0</th>\n",
       "      <td>1 Initiation</td>\n",
       "      <td>1 Orientation</td>\n",
       "      <td>Your Why</td>\n",
       "      <td>prompt</td>\n",
       "      <td>Myalei Alexander</td>\n",
       "      <td>malexander.p936@prepforprep.org</td>\n",
       "      <td>3</td>\n",
       "      <td>3.0</td>\n",
       "      <td>NaN</td>\n",
       "      <td>I joined so i can learn how to code</td>\n",
       "      <td>NaN</td>\n",
       "      <td>NaN</td>\n",
       "      <td>NaN</td>\n",
       "      <td>NaN</td>\n",
       "      <td>NaN</td>\n",
       "    </tr>\n",
       "    <tr>\n",
       "      <th>1</th>\n",
       "      <td>1 Initiation</td>\n",
       "      <td>1 Orientation</td>\n",
       "      <td>Your Why</td>\n",
       "      <td>prompt</td>\n",
       "      <td>Irene Gonzalez</td>\n",
       "      <td>gonzalezfajardo.irene@gmail.com</td>\n",
       "      <td>3</td>\n",
       "      <td>3.0</td>\n",
       "      <td>NaN</td>\n",
       "      <td>to get learn how to code and gain confidence i...</td>\n",
       "      <td>NaN</td>\n",
       "      <td>NaN</td>\n",
       "      <td>NaN</td>\n",
       "      <td>NaN</td>\n",
       "      <td>NaN</td>\n",
       "    </tr>\n",
       "    <tr>\n",
       "      <th>2</th>\n",
       "      <td>1 Initiation</td>\n",
       "      <td>1 Orientation</td>\n",
       "      <td>Your Why</td>\n",
       "      <td>prompt</td>\n",
       "      <td>madi</td>\n",
       "      <td>madic011009@gmail.com</td>\n",
       "      <td>3</td>\n",
       "      <td>3.0</td>\n",
       "      <td>NaN</td>\n",
       "      <td>i was interested in the business aspect of the...</td>\n",
       "      <td>NaN</td>\n",
       "      <td>NaN</td>\n",
       "      <td>NaN</td>\n",
       "      <td>NaN</td>\n",
       "      <td>NaN</td>\n",
       "    </tr>\n",
       "    <tr>\n",
       "      <th>3</th>\n",
       "      <td>1 Initiation</td>\n",
       "      <td>1 Orientation</td>\n",
       "      <td>Your Why</td>\n",
       "      <td>prompt</td>\n",
       "      <td>Cannon Jolly</td>\n",
       "      <td>cjolly.pf43@prepforprep.org</td>\n",
       "      <td>3</td>\n",
       "      <td>3.0</td>\n",
       "      <td>NaN</td>\n",
       "      <td>I think that this is a great experience and an...</td>\n",
       "      <td>NaN</td>\n",
       "      <td>NaN</td>\n",
       "      <td>NaN</td>\n",
       "      <td>NaN</td>\n",
       "      <td>NaN</td>\n",
       "    </tr>\n",
       "    <tr>\n",
       "      <th>4</th>\n",
       "      <td>1 Initiation</td>\n",
       "      <td>1 Orientation</td>\n",
       "      <td>Your Why</td>\n",
       "      <td>prompt</td>\n",
       "      <td>Jordan Gasco</td>\n",
       "      <td>jgasconyc@gmail.com</td>\n",
       "      <td>3</td>\n",
       "      <td>3.0</td>\n",
       "      <td>NaN</td>\n",
       "      <td>I wanted to expand my tech skills in the codin...</td>\n",
       "      <td>NaN</td>\n",
       "      <td>NaN</td>\n",
       "      <td>NaN</td>\n",
       "      <td>NaN</td>\n",
       "      <td>NaN</td>\n",
       "    </tr>\n",
       "  </tbody>\n",
       "</table>\n",
       "</div>"
      ],
      "text/plain": [
       "     Checkpoint         Lesson    Prompt    Type      Student Name  \\\n",
       "0  1 Initiation  1 Orientation  Your Why  prompt  Myalei Alexander   \n",
       "1  1 Initiation  1 Orientation  Your Why  prompt    Irene Gonzalez   \n",
       "2  1 Initiation  1 Orientation  Your Why  prompt              madi   \n",
       "3  1 Initiation  1 Orientation  Your Why  prompt      Cannon Jolly   \n",
       "4  1 Initiation  1 Orientation  Your Why  prompt      Jordan Gasco   \n",
       "\n",
       "                     Student Email  Available Points  Earned Points Note  \\\n",
       "0  malexander.p936@prepforprep.org                 3            3.0  NaN   \n",
       "1  gonzalezfajardo.irene@gmail.com                 3            3.0  NaN   \n",
       "2            madic011009@gmail.com                 3            3.0  NaN   \n",
       "3      cjolly.pf43@prepforprep.org                 3            3.0  NaN   \n",
       "4              jgasconyc@gmail.com                 3            3.0  NaN   \n",
       "\n",
       "                                            Answer 1 Answer 2 Answer 3  \\\n",
       "0                I joined so i can learn how to code      NaN      NaN   \n",
       "1  to get learn how to code and gain confidence i...      NaN      NaN   \n",
       "2  i was interested in the business aspect of the...      NaN      NaN   \n",
       "3  I think that this is a great experience and an...      NaN      NaN   \n",
       "4  I wanted to expand my tech skills in the codin...      NaN      NaN   \n",
       "\n",
       "  Answer 4 Answer 5 Answer 6  \n",
       "0      NaN      NaN      NaN  \n",
       "1      NaN      NaN      NaN  \n",
       "2      NaN      NaN      NaN  \n",
       "3      NaN      NaN      NaN  \n",
       "4      NaN      NaN      NaN  "
      ]
     },
     "execution_count": 3,
     "metadata": {},
     "output_type": "execute_result"
    }
   ],
   "source": [
    "df.head()"
   ]
  },
  {
   "cell_type": "code",
   "execution_count": 4,
   "id": "de370ffd-2c0c-4198-b671-3647b511b5d1",
   "metadata": {},
   "outputs": [
    {
     "name": "stdout",
     "output_type": "stream",
     "text": [
      "['Myalei Alexander' 'Irene Gonzalez' 'madi' 'Cannon Jolly' 'Jordan Gasco'\n",
      " 'Bailee Timmons27' \"Sarah Sookoo '26\" 'elmary rodriguez'\n",
      " 'Marco Andres Rodriguez' 'stephanie o' 'Alexander' 'Michael Oyaniyi'\n",
      " 'MagentaMovie' 'William Gonzalez' 'Dara Akinwande'\n",
      " 'Federico Lynch Ferraris' 'aiyana' 'Diana Allado' 'Dawood S'\n",
      " 'Mahid Shams' 'Joasaphat Valdrz' 'Teferi Richards' 'Arjun Dey' 'Melissa'\n",
      " 'Mya Lei' 'Ezequiel Martinez' 'Michael Okyere' 'Kayla Garrison'\n",
      " 'Kevin Xie' 'Erica Guan' 'Nicholas Ramsumair' 'Sofia Mazzella'\n",
      " 'Zachary Mattis-Thomas' 'Abhishek Chaki' 'Uzochi Onunaku' 'Emilio Bravo'\n",
      " 'Anthony Rodriguez' 'Mathias Osback' 'Ramatoulaye Bah' 'Casey Mattis'\n",
      " 'Martina Adogli' 'Alexis Rosario' 'Zinny Ugbala']\n",
      "Abhishek Chaki\n",
      "Alexander\n",
      "Alexis Rosario\n",
      "Anthony Rodriguez\n",
      "Arjun Dey\n",
      "Bailee Timmons27\n",
      "Cannon Jolly\n",
      "Casey Mattis\n",
      "Dara Akinwande\n",
      "Dawood S\n",
      "Diana Allado\n",
      "Emilio Bravo\n",
      "Erica Guan\n",
      "Ezequiel Martinez\n",
      "Federico Lynch Ferraris\n",
      "Irene Gonzalez\n",
      "Joasaphat Valdrz\n",
      "Jordan Gasco\n",
      "Kayla Garrison\n",
      "Kevin Xie\n",
      "MagentaMovie\n",
      "Mahid Shams\n",
      "Marco Andres Rodriguez\n",
      "Martina Adogli\n",
      "Mathias Osback\n",
      "Melissa\n",
      "Michael Okyere\n",
      "Michael Oyaniyi\n",
      "Mya Lei\n",
      "Myalei Alexander\n",
      "Nicholas Ramsumair\n",
      "Ramatoulaye Bah\n",
      "Sarah Sookoo '26\n",
      "Sofia Mazzella\n",
      "Teferi Richards\n",
      "Uzochi Onunaku\n",
      "William Gonzalez\n",
      "Zachary Mattis-Thomas\n",
      "Zinny Ugbala\n",
      "aiyana\n",
      "elmary rodriguez\n",
      "madi\n",
      "stephanie o\n"
     ]
    }
   ],
   "source": [
    "unique_values = df['Student Name'].unique()\n",
    "print(unique_values)\n",
    "mylist=unique_values.tolist()\n",
    "mylist.sort()\n",
    "for i in mylist:\n",
    "    print(i)"
   ]
  },
  {
   "cell_type": "code",
   "execution_count": 5,
   "id": "e43538d0-63f5-4318-b17f-4d099191c0b6",
   "metadata": {},
   "outputs": [
    {
     "data": {
      "text/html": [
       "<div>\n",
       "<style scoped>\n",
       "    .dataframe tbody tr th:only-of-type {\n",
       "        vertical-align: middle;\n",
       "    }\n",
       "\n",
       "    .dataframe tbody tr th {\n",
       "        vertical-align: top;\n",
       "    }\n",
       "\n",
       "    .dataframe thead th {\n",
       "        text-align: right;\n",
       "    }\n",
       "</style>\n",
       "<table border=\"1\" class=\"dataframe\">\n",
       "  <thead>\n",
       "    <tr style=\"text-align: right;\">\n",
       "      <th></th>\n",
       "      <th>Question Name</th>\n",
       "      <th>Question</th>\n",
       "    </tr>\n",
       "  </thead>\n",
       "  <tbody>\n",
       "    <tr>\n",
       "      <th>0</th>\n",
       "      <td>Your Why</td>\n",
       "      <td>Why did you join this incubator (1 sentence)?</td>\n",
       "    </tr>\n",
       "    <tr>\n",
       "      <th>1</th>\n",
       "      <td>Your Skills Development</td>\n",
       "      <td>What are the top 3 skills that you want to dev...</td>\n",
       "    </tr>\n",
       "    <tr>\n",
       "      <th>2</th>\n",
       "      <td>Our Culture</td>\n",
       "      <td>Do you have any ground rules values or communi...</td>\n",
       "    </tr>\n",
       "    <tr>\n",
       "      <th>3</th>\n",
       "      <td>Your Commitment</td>\n",
       "      <td>Write down a commitment or promise that you wa...</td>\n",
       "    </tr>\n",
       "    <tr>\n",
       "      <th>4</th>\n",
       "      <td>Who is a person that you greatly admire?</td>\n",
       "      <td>Who is a person that you greatly admire?</td>\n",
       "    </tr>\n",
       "  </tbody>\n",
       "</table>\n",
       "</div>"
      ],
      "text/plain": [
       "                              Question Name  \\\n",
       "0                                  Your Why   \n",
       "1                   Your Skills Development   \n",
       "2                               Our Culture   \n",
       "3                           Your Commitment   \n",
       "4  Who is a person that you greatly admire?   \n",
       "\n",
       "                                            Question  \n",
       "0      Why did you join this incubator (1 sentence)?  \n",
       "1  What are the top 3 skills that you want to dev...  \n",
       "2  Do you have any ground rules values or communi...  \n",
       "3  Write down a commitment or promise that you wa...  \n",
       "4           Who is a person that you greatly admire?  "
      ]
     },
     "execution_count": 5,
     "metadata": {},
     "output_type": "execute_result"
    }
   ],
   "source": [
    "questions=pd.read_csv('Student Questions - Sheet1.csv')\n",
    "questions.head()\n"
   ]
  },
  {
   "cell_type": "code",
   "execution_count": 6,
   "id": "12d41bf5-27f0-4d04-8474-29ee340235a3",
   "metadata": {},
   "outputs": [
    {
     "name": "stdout",
     "output_type": "stream",
     "text": [
      "Question Name    object\n",
      "Question         object\n",
      "dtype: object\n"
     ]
    }
   ],
   "source": [
    "print(questions.dtypes)\n",
    "response_by_student={}\n",
    "response_by_student = {student: [] for student in mylist}\n"
   ]
  },
  {
   "cell_type": "code",
   "execution_count": 8,
   "id": "f2aae3e9-c3a8-4b30-9051-65c74ec1ffd4",
   "metadata": {},
   "outputs": [
    {
     "name": "stdout",
     "output_type": "stream",
     "text": [
      "Done!\n"
     ]
    }
   ],
   "source": [
    "for value in questions[\"Question Name\"]:\n",
    "    for i in range(len(mylist)):\n",
    "        student_name = mylist[i] #from list earlier made\n",
    "        row = df[(df[\"Student Name\"] == student_name) & (df[\"Prompt\"] == value)]  #row where student name and prompt name matc\n",
    "        \n",
    "        # row where value in questions df is the Question Name\n",
    "        first_row = questions[questions[\"Question Name\"] == value]\n",
    "        question_amount =first_row.iloc[0][\"Question\"].count(\";\")+1  # gets amount of questions for that prompt from ; count\n",
    "        if row.empty:\n",
    "            # If no match, append 'N/A' for each question in the prompt\n",
    "            response_by_student[student_name].extend([\"N/A\"] * question_amount)\n",
    "            continue\n",
    "        for j in range(question_amount):\n",
    "            answer_col = f\"Answer {j + 1}\" #makes Answer 1, Answer 2... based on list size         \n",
    "            if answer_col in row.columns:\n",
    "                # get the answer from that col and row\n",
    "                answer_val = row.iloc[0][answer_col]\n",
    "                response_by_student[student_name].append(answer_val) #add to dictionary from before\n",
    "            else:\n",
    "                response_by_student[student_name].append(\"N/A\")  #  if missing write N/A\n",
    "print(\"Done!\")"
   ]
  },
  {
   "cell_type": "code",
   "execution_count": 9,
   "id": "7b3f3c88-3095-4145-aec4-15a1ef162278",
   "metadata": {},
   "outputs": [
    {
     "name": "stdout",
     "output_type": "stream",
     "text": [
      "['I joined so i can learn how to code', 'Good teamwork', 'Empathy', 'And communication', 'Yes to respect everyone’s thoughts and ideas', 'That i will pay attention in coding and get and internship at google', 'N/A', 'Yes the lesson checkpoints', 'Keeping the chat appropriate and school based', 'N/A', 'The cotton gin', 'The trash compactor keeps the streets clean and make its easier on santantion workers', 'To expand', 'N/A', 'N/A', 'Humans because we program the computers and tell them what to do', 'That’s i need to explain my ideas throughly to others', 'A business run by someone who is solving a social problem', 'N/A', 'He started his own business', 'N/A', 'Hot fires with out the mssg', 'Expensive but you make six figures later on down the lin e', 'N/A', 'N/A', 'N/A', 'N/A', 'N/A', 'N/A', 'N/A', 'N/A', 'N/A', 'N/A', 'N/A', 'N/A', 'N/A', 'N/A', 'N/A', 'N/A', 'N/A', 'N/A', 'N/A', 'N/A', 'N/A', 'N/A', 'N/A', 'N/A', 'N/A', 'N/A', 'N/A', 'N/A', 'N/A', 'N/A', 'N/A', 'N/A', 'N/A', 'N/A', 'N/A', 'N/A', 'N/A', 'N/A', 'N/A', 'N/A', 'N/A', 'N/A', 'N/A', 'N/A', 'N/A', 'N/A', 'N/A', 'N/A', 'N/A', 'N/A', 'N/A', 'N/A', 'N/A', 'N/A', 'N/A', 'N/A', 'N/A', 'N/A', 'N/A', 'N/A']\n"
     ]
    }
   ],
   "source": [
    "print(response_by_student[\"Myalei Alexander\"])"
   ]
  },
  {
   "cell_type": "code",
   "execution_count": 10,
   "id": "6a27023b-883a-4330-b27a-43a217cb9891",
   "metadata": {},
   "outputs": [
    {
     "name": "stdout",
     "output_type": "stream",
     "text": [
      "CSV file 'first_checkpoint_responses.csv' created successfully.\n"
     ]
    }
   ],
   "source": [
    "import json\n",
    "with open('student_responses.json', 'w') as f:\n",
    "    json.dump(response_by_student, f, indent=4) \n",
    "    \n",
    "with open('student_responses.json', 'r') as f:\n",
    "    loaded_dict = json.load(f)\n",
    "    print(loaded_dict)\n"
   ]
  }
 ],
 "metadata": {
  "kernelspec": {
   "display_name": "Python 3 (ipykernel)",
   "language": "python",
   "name": "python3"
  },
  "language_info": {
   "codemirror_mode": {
    "name": "ipython",
    "version": 3
   },
   "file_extension": ".py",
   "mimetype": "text/x-python",
   "name": "python",
   "nbconvert_exporter": "python",
   "pygments_lexer": "ipython3",
   "version": "3.12.4"
  }
 },
 "nbformat": 4,
 "nbformat_minor": 5
}
