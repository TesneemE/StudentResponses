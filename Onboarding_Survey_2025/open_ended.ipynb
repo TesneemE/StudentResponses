{
 "cells": [
  {
   "cell_type": "code",
   "execution_count": 5,
   "id": "911d7ed9-e02d-4f9b-a41b-e54f0d727452",
   "metadata": {},
   "outputs": [],
   "source": [
    "import os\n",
    "import glob\n",
    "import pandas as pd"
   ]
  },
  {
   "cell_type": "code",
   "execution_count": 6,
   "id": "a70e0c64-367f-478b-852e-8e0656eb4c69",
   "metadata": {},
   "outputs": [],
   "source": [
    "skip_qs=['Full Name:',\"Email Address:\", \"Age\",\"Pronouns\",\"What type of school do you attend?\",\"What is the name of your school?\",\"What is your household income level?\",\"Would you be the first person in your family to attend college?\",\"What is your neighborhood zipcode?\",\"Select all that apply: [I am a resident of public or affordable housing (i.e., NYCHA), I participate in a lunch voucher program at my school, I am aware that members of my family receive welfare or SNAP benefits, I am currently homeless and/or live in a shelter, At least one of my parents is currently unemployed, I have a job outside of school, I provide income that my family depends on, My family immigrated to the United States within the past 3 generations, English is not my first language, None of these apply]\",\"Do you identify as a person of color?\",\"Race. Select all that apply: [African, African American / Black, Caribbean American, Hispanic/Latinx, American Indian/Alaskan Native, Native Hawaiian or Pacific Islander, Middle Eastern/North African, East Asian, South Asian, Southeast Asian, White, Other]\",\"Do you have any accommodations or specific requests (dietary restrictions, mobility, sensory, religious, etc.) that would support your full participation?\",\"What is the name of your school? (Enter N/A if you don't attend school)\"]"
   ]
  },
  {
   "cell_type": "code",
   "execution_count": 7,
   "id": "0bd684b4-b644-405e-b091-70551b7f6c99",
   "metadata": {},
   "outputs": [],
   "source": [
    "def is_int(x):\n",
    "    try:\n",
    "        return float(x).is_integer()\n",
    "    except:\n",
    "        return False\n",
    "def open_ended(folder, output):\n",
    "    os.makedirs(output, exist_ok=True)\n",
    "    csv_files = glob.glob(os.path.join(folder, \"*.csv\"))\n",
    "    \n",
    "    for file in csv_files:\n",
    "        good_rows = []\n",
    "        df = pd.read_csv(file)\n",
    "        for i, row in df.iterrows():\n",
    "            prompt = str(row['prompt']).strip()\n",
    "            answer = str(row['answer']).strip()\n",
    "            if prompt not in skip_qs and not is_int(answer):\n",
    "                good_rows.append({'prompt': prompt, 'answer': answer})\n",
    "            new_df = pd.DataFrame.from_records(good_rows)\n",
    "            filename = os.path.basename(file)\n",
    "            output_path = os.path.join(output, filename)\n",
    "            new_df.to_csv(output_path, index=False, encoding='utf-8-sig')\n",
    "                \n",
    "open_ended('IFE 2025 Final Onboarding Survey Results', 'IFE 2025 Onboarding Survey Open Ended')"
   ]
  },
  {
   "cell_type": "code",
   "execution_count": null,
   "id": "372fe69e-04a9-45ad-a0b3-5f7321d11a8c",
   "metadata": {},
   "outputs": [],
   "source": []
  }
 ],
 "metadata": {
  "kernelspec": {
   "display_name": "Python 3 (ipykernel)",
   "language": "python",
   "name": "python3"
  },
  "language_info": {
   "codemirror_mode": {
    "name": "ipython",
    "version": 3
   },
   "file_extension": ".py",
   "mimetype": "text/x-python",
   "name": "python",
   "nbconvert_exporter": "python",
   "pygments_lexer": "ipython3",
   "version": "3.12.4"
  }
 },
 "nbformat": 4,
 "nbformat_minor": 5
}
